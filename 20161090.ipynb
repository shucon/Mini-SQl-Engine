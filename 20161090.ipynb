{
 "cells": [
  {
   "cell_type": "code",
   "execution_count": 1,
   "metadata": {},
   "outputs": [],
   "source": [
    "import sqlparse\n",
    "import csv\n",
    "import os\n",
    "import sys\n",
    "import re\n",
    "function = []\n",
    "# functions = ['MAX','MIN','AVERAGE','SUM']"
   ]
  },
  {
   "cell_type": "code",
   "execution_count": 2,
   "metadata": {},
   "outputs": [],
   "source": [
    "def replaceStar (tables):\n",
    "    \n",
    "    columns = {}\n",
    "    for i in tables:\n",
    "        columns[i] = database[i]\n",
    "    return columns"
   ]
  },
  {
   "cell_type": "code",
   "execution_count": 3,
   "metadata": {},
   "outputs": [],
   "source": [
    "def checkAmbiguity (tables,columns):\n",
    "    \n",
    "    temp = {}\n",
    "    for table in tables:\n",
    "            temp[table] = []\n",
    "    for column in columns:\n",
    "        flag = 0\n",
    "        for table in tables:\n",
    "            if column in database[table]:\n",
    "                if flag:\n",
    "                    raise ValueError (\"Ambiguity Found\")\n",
    "                else :\n",
    "                    flag = 1\n",
    "                    temp[table].append(column)\n",
    "    return temp"
   ]
  },
  {
   "cell_type": "code",
   "execution_count": 4,
   "metadata": {},
   "outputs": [],
   "source": [
    "def joinTables (table1,table2):\n",
    "    \n",
    "    joinedTable = []\n",
    "    for i in table1:\n",
    "        for j in table2:\n",
    "            joinedTable.append(i+j)\n",
    "    return joinedTable"
   ]
  },
  {
   "cell_type": "code",
   "execution_count": 5,
   "metadata": {},
   "outputs": [],
   "source": [
    "def checkFunction (function):\n",
    "    if function == \"MAX\":\n",
    "        printMax()\n",
    "    elif function == \"MIN\":\n",
    "        printMin()\n",
    "    elif function == \"AVERAGE\":\n",
    "        printAverage()\n",
    "    elif function == \"SUM\":\n",
    "        printSum()\n",
    "    elif function:\n",
    "        raise ValueError(\"Unknown function\")\n",
    "    return"
   ]
  },
  {
   "cell_type": "code",
   "execution_count": null,
   "metadata": {},
   "outputs": [],
   "source": [
    "# def printMax():\n",
    "# def printMin():\n",
    "# def printAverage():\n",
    "# def printSum():"
   ]
  },
  {
   "cell_type": "code",
   "execution_count": 6,
   "metadata": {},
   "outputs": [],
   "source": [
    "def printDistinct ():\n",
    "    print \"Distinct\""
   ]
  },
  {
   "cell_type": "code",
   "execution_count": 7,
   "metadata": {},
   "outputs": [],
   "source": [
    "def getTables(query):\n",
    "#     gives the tables that are required\n",
    "    for i in range(len(query)):\n",
    "        if (query[i].upper() == \"FROM\"):\n",
    "            tableIndex = i+1\n",
    "    table = re.split(r'[\\ \\t,]+',query[tableIndex])\n",
    "    return table\n",
    "\n",
    "def getColumns(query):\n",
    "#     gives the rows that are to be printed\n",
    "    column = []\n",
    "    global function \n",
    "    for i in range(len(query)):\n",
    "        if (query[i].upper() == \"FROM\"):\n",
    "            rowIndex = i-1\n",
    "    for i in range(len(query[rowIndex])):\n",
    "        if (query[rowIndex][i] == \"(\"):\n",
    "            column = re.split(r'[\\ \\t,]+',query[rowIndex][query[rowIndex].find(\"(\")+1:query[rowIndex].find(\")\")])\n",
    "            break;\n",
    "        function.append(query[rowIndex][i])\n",
    "    \n",
    "    if not column:\n",
    "        column = re.split(r'[\\ \\t,]+',query[rowIndex])\n",
    "        function = []\n",
    "    \n",
    "#     Converting function list to Array\n",
    "    string = ''.join(function)\n",
    "    function = string.upper()\n",
    "    return column"
   ]
  },
  {
   "cell_type": "code",
   "execution_count": 8,
   "metadata": {},
   "outputs": [],
   "source": [
    "def select(query):\n",
    "    columns = getColumns(query)\n",
    "# Get data from all the required tables\n",
    "    tables = getTables(query)\n",
    "    \n",
    "#     Convert columns to dictionary\n",
    "    if columns[0] == \"*\":\n",
    "        columns = replaceStar(tables)\n",
    "    else:\n",
    "        columns = checkAmbiguity(tables,columns)\n",
    "        \n",
    "    for table in tables:\n",
    "        data[table] = []\n",
    "        with open('files/'+table+'.csv', mode='r') as csv_file:\n",
    "            csv_reader = csv.reader(csv_file)\n",
    "            for row in csv_reader:\n",
    "                data[table].append(row)\n",
    "#     print data\n",
    "    if len(tables) > 1:\n",
    "        combinedTable = joinTables(data[tables[0]],data[tables[1]])\n",
    "        tables.remove(tables[0])\n",
    "        tables.remove(tables[0])\n",
    "        for i in tables:\n",
    "            combinedTable = joinTables(a,data[i])\n",
    "    else:\n",
    "        combinedTable = data[tables[0]]\n",
    "    \n",
    "    tables = getTables(query)\n",
    "    if function :\n",
    "        checkFunction(function)\n",
    "#         Prints Header\n",
    "    for i in tables:\n",
    "        for columnName in columns[i]:\n",
    "            print (i+\".\"+columnName),\n",
    "    print\n",
    "    \n",
    "#     Print Rows\n",
    "    for row in combinedTable:\n",
    "        i = 0\n",
    "        for table in tables:\n",
    "            for j in database[table]:\n",
    "                if j in columns[table]:\n",
    "                    print(row[i]),\n",
    "                    i += 1\n",
    "                else:\n",
    "                    i += 1\n",
    "        print\n",
    "            \n",
    "    if (query[1].upper() == 'DISTINCT'):\n",
    "        printDistinct()"
   ]
  },
  {
   "cell_type": "code",
   "execution_count": 9,
   "metadata": {},
   "outputs": [
    {
     "name": "stdout",
     "output_type": "stream",
     "text": [
      "{'table2': ['B', 'D'], 'table1': ['A', 'B', 'C']}\n"
     ]
    }
   ],
   "source": [
    "# Getting Metadata\n",
    "database = {}\n",
    "data = {}\n",
    "f = open('files/metadata.txt','r')\n",
    "for line in f:\n",
    "#     print(line.strip())\n",
    "    if line.strip() == \"<begin_table>\":\n",
    "        begin = 1\n",
    "        continue\n",
    "    if line.strip() == \"<end_table>\":\n",
    "        begin = 0\n",
    "        continue\n",
    "    if begin == 1:\n",
    "        table_name = line.strip()\n",
    "        database[table_name] = []\n",
    "        begin = 2\n",
    "        continue\n",
    "    if begin == 2:\n",
    "        database[table_name].append(line.strip())\n",
    "        continue\n",
    "print(database)"
   ]
  },
  {
   "cell_type": "code",
   "execution_count": 10,
   "metadata": {},
   "outputs": [],
   "source": [
    "query = sys.argv[1]\n",
    "# print(query)\n",
    "query = \"Select max(A) from table1,table2 where a=b;\"\n",
    "queries=sqlparse.split(query)"
   ]
  },
  {
   "cell_type": "code",
   "execution_count": 11,
   "metadata": {},
   "outputs": [
    {
     "name": "stdout",
     "output_type": "stream",
     "text": [
      "['Select', 'max(A)', 'from', 'table1,table2', 'where a=b;']\n"
     ]
    },
    {
     "ename": "NameError",
     "evalue": "global name 'printMax' is not defined",
     "output_type": "error",
     "traceback": [
      "\u001b[0;31m---------------------------------------------------------------------------\u001b[0m",
      "\u001b[0;31mNameError\u001b[0m                                 Traceback (most recent call last)",
      "\u001b[0;32m<ipython-input-11-bfd542fc797c>\u001b[0m in \u001b[0;36m<module>\u001b[0;34m()\u001b[0m\n\u001b[1;32m     19\u001b[0m \u001b[0;31m#         Run specific query command\u001b[0m\u001b[0;34m\u001b[0m\u001b[0;34m\u001b[0m\u001b[0m\n\u001b[1;32m     20\u001b[0m     \u001b[0;32mif\u001b[0m \u001b[0mquerytype\u001b[0m \u001b[0;34m==\u001b[0m \u001b[0;34m\"SELECT\"\u001b[0m\u001b[0;34m:\u001b[0m\u001b[0;34m\u001b[0m\u001b[0m\n\u001b[0;32m---> 21\u001b[0;31m         \u001b[0mselect\u001b[0m\u001b[0;34m(\u001b[0m\u001b[0mcommand\u001b[0m\u001b[0;34m)\u001b[0m\u001b[0;34m\u001b[0m\u001b[0m\n\u001b[0m\u001b[1;32m     22\u001b[0m \u001b[0;31m#         continue\u001b[0m\u001b[0;34m\u001b[0m\u001b[0;34m\u001b[0m\u001b[0m\n\u001b[1;32m     23\u001b[0m     \u001b[0;32melse\u001b[0m\u001b[0;34m:\u001b[0m\u001b[0;34m\u001b[0m\u001b[0m\n",
      "\u001b[0;32m<ipython-input-8-a7c184720b34>\u001b[0m in \u001b[0;36mselect\u001b[0;34m(query)\u001b[0m\n\u001b[1;32m     28\u001b[0m     \u001b[0mtables\u001b[0m \u001b[0;34m=\u001b[0m \u001b[0mgetTables\u001b[0m\u001b[0;34m(\u001b[0m\u001b[0mquery\u001b[0m\u001b[0;34m)\u001b[0m\u001b[0;34m\u001b[0m\u001b[0m\n\u001b[1;32m     29\u001b[0m     \u001b[0;32mif\u001b[0m \u001b[0mfunction\u001b[0m \u001b[0;34m:\u001b[0m\u001b[0;34m\u001b[0m\u001b[0m\n\u001b[0;32m---> 30\u001b[0;31m         \u001b[0mcheckFunction\u001b[0m\u001b[0;34m(\u001b[0m\u001b[0mfunction\u001b[0m\u001b[0;34m)\u001b[0m\u001b[0;34m\u001b[0m\u001b[0m\n\u001b[0m\u001b[1;32m     31\u001b[0m \u001b[0;31m#         Prints Header\u001b[0m\u001b[0;34m\u001b[0m\u001b[0;34m\u001b[0m\u001b[0m\n\u001b[1;32m     32\u001b[0m     \u001b[0;32mfor\u001b[0m \u001b[0mi\u001b[0m \u001b[0;32min\u001b[0m \u001b[0mtables\u001b[0m\u001b[0;34m:\u001b[0m\u001b[0;34m\u001b[0m\u001b[0m\n",
      "\u001b[0;32m<ipython-input-5-919a89f27898>\u001b[0m in \u001b[0;36mcheckFunction\u001b[0;34m(function)\u001b[0m\n\u001b[1;32m      1\u001b[0m \u001b[0;32mdef\u001b[0m \u001b[0mcheckFunction\u001b[0m \u001b[0;34m(\u001b[0m\u001b[0mfunction\u001b[0m\u001b[0;34m)\u001b[0m\u001b[0;34m:\u001b[0m\u001b[0;34m\u001b[0m\u001b[0m\n\u001b[1;32m      2\u001b[0m     \u001b[0;32mif\u001b[0m \u001b[0mfunction\u001b[0m \u001b[0;34m==\u001b[0m \u001b[0;34m\"MAX\"\u001b[0m\u001b[0;34m:\u001b[0m\u001b[0;34m\u001b[0m\u001b[0m\n\u001b[0;32m----> 3\u001b[0;31m         \u001b[0mprintMax\u001b[0m\u001b[0;34m(\u001b[0m\u001b[0;34m)\u001b[0m\u001b[0;34m\u001b[0m\u001b[0m\n\u001b[0m\u001b[1;32m      4\u001b[0m     \u001b[0;32melif\u001b[0m \u001b[0mfunction\u001b[0m \u001b[0;34m==\u001b[0m \u001b[0;34m\"MIN\"\u001b[0m\u001b[0;34m:\u001b[0m\u001b[0;34m\u001b[0m\u001b[0m\n\u001b[1;32m      5\u001b[0m         \u001b[0mprintMin\u001b[0m\u001b[0;34m(\u001b[0m\u001b[0;34m)\u001b[0m\u001b[0;34m\u001b[0m\u001b[0m\n",
      "\u001b[0;31mNameError\u001b[0m: global name 'printMax' is not defined"
     ]
    }
   ],
   "source": [
    "for query in queries:\n",
    "    query = sqlparse.format(query,strip_comments=True)\n",
    "    sql = sqlparse.parse(query)[0]\n",
    "    token = sql.tokens\n",
    "    querytype = sqlparse.sql.Statement(token).get_type()\n",
    "    identifierList = []\n",
    "    queryArray = sqlparse.sql.IdentifierList(token).get_identifiers()\n",
    "# command is an array that divides sql query into multiple parts\n",
    "    command = []\n",
    "    for i in queryArray:\n",
    "        command.append(str(i))\n",
    "# Error Handling of ; ending\n",
    "    commandLength = len(command)\n",
    "    lastcommandLength = len(command[commandLength-1])\n",
    "    print command\n",
    "    if command[commandLength-1][lastcommandLength-1] != \";\":\n",
    "        raise ValueError(\"Error: The command does not end with ;\")\n",
    "        continue\n",
    "#         Run specific query command\n",
    "    if querytype == \"SELECT\":\n",
    "        select(command)\n",
    "#         continue\n",
    "    else:\n",
    "        raise ValueError(\"Error: Unknown Function\")"
   ]
  },
  {
   "cell_type": "code",
   "execution_count": null,
   "metadata": {},
   "outputs": [],
   "source": []
  }
 ],
 "metadata": {
  "kernelspec": {
   "display_name": "Python 2",
   "language": "python",
   "name": "python2"
  },
  "language_info": {
   "codemirror_mode": {
    "name": "ipython",
    "version": 2
   },
   "file_extension": ".py",
   "mimetype": "text/x-python",
   "name": "python",
   "nbconvert_exporter": "python",
   "pygments_lexer": "ipython2",
   "version": "2.7.12"
  }
 },
 "nbformat": 4,
 "nbformat_minor": 2
}
