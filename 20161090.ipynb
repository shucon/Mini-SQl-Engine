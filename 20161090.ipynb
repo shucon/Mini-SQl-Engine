{
 "cells": [
  {
   "cell_type": "code",
   "execution_count": 1,
   "metadata": {},
   "outputs": [],
   "source": [
    "import sqlparse\n",
    "import csv\n",
    "import os\n",
    "import sys\n",
    "import re"
   ]
  },
  {
   "cell_type": "code",
   "execution_count": 2,
   "metadata": {},
   "outputs": [],
   "source": [
    "def getTables(query):\n",
    "#     gives the tables that are required\n",
    "    for i in range(len(query)):\n",
    "        if (query[i].upper() == \"FROM\"):\n",
    "            tableIndex = i+1\n",
    "    table = re.split(r'[\\ \\t,]+',query[tableIndex])\n",
    "    return table\n",
    "\n",
    "def getRows(query):\n",
    "#     gives the rows that are to be printed\n",
    "    for i in range(len(query)):\n",
    "        if (query[i].upper() == \"FROM\"):\n",
    "            rowIndex = i-1\n",
    "    row = re.split(r'[\\ \\t,]+',query[rowIndex])\n",
    "    return row"
   ]
  },
  {
   "cell_type": "code",
   "execution_count": 3,
   "metadata": {},
   "outputs": [],
   "source": [
    "def select(query):\n",
    "    rows = getRows(query)\n",
    "# Get data from all the required tables\n",
    "    tables = getTables(query)\n",
    "    for table in tables:\n",
    "        data[table] = {}\n",
    "        for i in database[table]:\n",
    "            data[table][i]=[]\n",
    "        with open('files/'+table+'.csv', mode='r') as csv_file:\n",
    "            csv_reader = csv.reader(csv_file)\n",
    "            for row in csv_reader:\n",
    "#                 print(row)\n",
    "                for i in range(len(row)):\n",
    "                    data[table][database[table][i]].append(row[i])\n",
    "#         Prints Header\n",
    "    for tableName,tableData in data.iteritems():\n",
    "        for columnName,columnData in tableData.iteritems():\n",
    "            if (rows[0] == \"*\" or columnName in rows):\n",
    "                print(tableName+\".\"+columnName),\n",
    "    print"
   ]
  },
  {
   "cell_type": "code",
   "execution_count": 4,
   "metadata": {},
   "outputs": [
    {
     "name": "stdout",
     "output_type": "stream",
     "text": [
      "{'table2': ['B', 'D'], 'table1': ['A', 'B', 'C']}\n"
     ]
    }
   ],
   "source": [
    "# Getting Metadata\n",
    "database = {}\n",
    "data = {}\n",
    "f = open('files/metadata.txt','r')\n",
    "for line in f:\n",
    "#     print(line.strip())\n",
    "    if line.strip() == \"<begin_table>\":\n",
    "        begin = 1\n",
    "        continue\n",
    "    if line.strip() == \"<end_table>\":\n",
    "        begin = 0\n",
    "        continue\n",
    "    if begin == 1:\n",
    "        table_name = line.strip()\n",
    "        database[table_name] = []\n",
    "        begin = 2\n",
    "        continue\n",
    "    if begin == 2:\n",
    "        database[table_name].append(line.strip())\n",
    "        continue\n",
    "print(database)"
   ]
  },
  {
   "cell_type": "code",
   "execution_count": 5,
   "metadata": {},
   "outputs": [],
   "source": [
    "query = sys.argv[1]\n",
    "# print(query)\n",
    "query = \"Select * from table1,table2 where a=b;\"\n",
    "queries=sqlparse.split(query)"
   ]
  },
  {
   "cell_type": "code",
   "execution_count": 6,
   "metadata": {},
   "outputs": [
    {
     "name": "stdout",
     "output_type": "stream",
     "text": [
      "[10]\n",
      "[10, 10]\n",
      "100\n",
      "table2.B table2.D table1.A table1.C table1.B\n"
     ]
    },
    {
     "ename": "NameError",
     "evalue": "global name 'count' is not defined",
     "output_type": "error",
     "traceback": [
      "\u001b[0;31m---------------------------------------------------------------------------\u001b[0m",
      "\u001b[0;31mNameError\u001b[0m                                 Traceback (most recent call last)",
      "\u001b[0;32m<ipython-input-6-fe09bcf234a6>\u001b[0m in \u001b[0;36m<module>\u001b[0;34m()\u001b[0m\n\u001b[1;32m     18\u001b[0m \u001b[0;31m#         Run specific query command\u001b[0m\u001b[0;34m\u001b[0m\u001b[0;34m\u001b[0m\u001b[0m\n\u001b[1;32m     19\u001b[0m     \u001b[0;32mif\u001b[0m \u001b[0mquerytype\u001b[0m \u001b[0;34m==\u001b[0m \u001b[0;34m\"SELECT\"\u001b[0m\u001b[0;34m:\u001b[0m\u001b[0;34m\u001b[0m\u001b[0m\n\u001b[0;32m---> 20\u001b[0;31m         \u001b[0mselect\u001b[0m\u001b[0;34m(\u001b[0m\u001b[0mcommand\u001b[0m\u001b[0;34m)\u001b[0m\u001b[0;34m\u001b[0m\u001b[0m\n\u001b[0m\u001b[1;32m     21\u001b[0m \u001b[0;31m#         continue\u001b[0m\u001b[0;34m\u001b[0m\u001b[0;34m\u001b[0m\u001b[0m\n\u001b[1;32m     22\u001b[0m     \u001b[0;32melse\u001b[0m\u001b[0;34m:\u001b[0m\u001b[0;34m\u001b[0m\u001b[0m\n",
      "\u001b[0;32m<ipython-input-3-670993ba09ec>\u001b[0m in \u001b[0;36mselect\u001b[0;34m(query)\u001b[0m\n\u001b[1;32m     31\u001b[0m \u001b[0;31m#             print (len(tableData))\u001b[0m\u001b[0;34m\u001b[0m\u001b[0;34m\u001b[0m\u001b[0m\n\u001b[1;32m     32\u001b[0m             \u001b[0;32mif\u001b[0m \u001b[0;34m(\u001b[0m\u001b[0mrows\u001b[0m\u001b[0;34m[\u001b[0m\u001b[0;36m0\u001b[0m\u001b[0;34m]\u001b[0m \u001b[0;34m==\u001b[0m \u001b[0;34m\"*\"\u001b[0m \u001b[0;32mor\u001b[0m \u001b[0mcolumnName\u001b[0m \u001b[0;32min\u001b[0m \u001b[0mrows\u001b[0m\u001b[0;34m)\u001b[0m\u001b[0;34m:\u001b[0m\u001b[0;34m\u001b[0m\u001b[0m\n\u001b[0;32m---> 33\u001b[0;31m                 \u001b[0;32mprint\u001b[0m\u001b[0;34m(\u001b[0m\u001b[0mcolumnData\u001b[0m\u001b[0;34m[\u001b[0m\u001b[0mcount\u001b[0m\u001b[0;34m[\u001b[0m\u001b[0mtableName\u001b[0m\u001b[0;34m]\u001b[0m\u001b[0;34m]\u001b[0m\u001b[0;34m)\u001b[0m\u001b[0;34m,\u001b[0m\u001b[0;34m\u001b[0m\u001b[0m\n\u001b[0m\u001b[1;32m     34\u001b[0m     \u001b[0;32mprint\u001b[0m\u001b[0;34m\u001b[0m\u001b[0m\n\u001b[1;32m     35\u001b[0m \u001b[0;31m#     for i in range(len(data['table1']['A'])):\u001b[0m\u001b[0;34m\u001b[0m\u001b[0;34m\u001b[0m\u001b[0m\n",
      "\u001b[0;31mNameError\u001b[0m: global name 'count' is not defined"
     ]
    }
   ],
   "source": [
    "for query in queries:\n",
    "    query = sqlparse.format(query,strip_comments=True)\n",
    "    sql = sqlparse.parse(query)[0]\n",
    "    token = sql.tokens\n",
    "    querytype = sqlparse.sql.Statement(token).get_type()\n",
    "    identifierList = []\n",
    "    queryArray = sqlparse.sql.IdentifierList(token).get_identifiers()\n",
    "# command is an array that divides sql query into multiple parts\n",
    "    command = []\n",
    "    for i in queryArray:\n",
    "        command.append(str(i))\n",
    "# Error Handling of ; ending\n",
    "    commandLength = len(command)\n",
    "    lastcommandLength = len(command[commandLength-1])\n",
    "    if command[commandLength-1][lastcommandLength-1] != \";\":\n",
    "        print(\"Error: The command does not end with ;\")\n",
    "        continue\n",
    "#         Run specific query command\n",
    "    if querytype == \"SELECT\":\n",
    "        select(command)\n",
    "#         continue\n",
    "    else:\n",
    "        print(\"Error: Unknown Function\")"
   ]
  },
  {
   "cell_type": "code",
   "execution_count": null,
   "metadata": {},
   "outputs": [],
   "source": []
  }
 ],
 "metadata": {
  "kernelspec": {
   "display_name": "Python 2",
   "language": "python",
   "name": "python2"
  },
  "language_info": {
   "codemirror_mode": {
    "name": "ipython",
    "version": 2
   },
   "file_extension": ".py",
   "mimetype": "text/x-python",
   "name": "python",
   "nbconvert_exporter": "python",
   "pygments_lexer": "ipython2",
   "version": "2.7.12"
  }
 },
 "nbformat": 4,
 "nbformat_minor": 2
}
