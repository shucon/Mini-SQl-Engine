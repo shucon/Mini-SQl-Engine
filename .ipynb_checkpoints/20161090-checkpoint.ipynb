{
 "cells": [
  {
   "cell_type": "code",
   "execution_count": 1,
   "metadata": {},
   "outputs": [],
   "source": [
    "import sqlparse\n",
    "import csv\n",
    "import os\n",
    "import sys\n",
    "import re"
   ]
  },
  {
   "cell_type": "code",
   "execution_count": 2,
   "metadata": {},
   "outputs": [],
   "source": [
    "def getTables(query):\n",
    "#     gives the tables that are required\n",
    "    for i in range(len(query)):\n",
    "        if (query[i].upper() == \"FROM\"):\n",
    "            tableIndex = i+1\n",
    "    table = re.split(r'[\\ \\t,]+',query[tableIndex])\n",
    "    return table\n",
    "\n",
    "def getRows(query):\n",
    "#     gives the rows that are to be printed\n",
    "    for i in range(len(query)):\n",
    "        if (query[i].upper() == \"FROM\"):\n",
    "            rowIndex = i-1\n",
    "    row = re.split(r'[\\ \\t,]+',query[rowIndex])\n",
    "    return row"
   ]
  },
  {
   "cell_type": "code",
   "execution_count": 3,
   "metadata": {},
   "outputs": [],
   "source": [
    "def select(query):\n",
    "    rows = getRows(query)\n",
    "# Get data from all the required tables\n",
    "    tables = getTables(query)\n",
    "    for table in tables:\n",
    "        data[table] = {}\n",
    "        for i in database[table]:\n",
    "            data[table][i]=[]\n",
    "        with open('files/'+table+'.csv', mode='r') as csv_file:\n",
    "            csv_reader = csv.reader(csv_file)\n",
    "            for row in csv_reader:\n",
    "#                 print(row)\n",
    "                for i in range(len(row)):\n",
    "                    data[table][database[table][i]].append(row[i])\n",
    "    print data\n",
    "    if rows[0] == \"*\":\n",
    "#         Prints Header\n",
    "        for table in tables:\n",
    "            for column in database[table]:\n",
    "                print(table+\".\"+column),\n",
    "        print\n",
    "            "
   ]
  },
  {
   "cell_type": "code",
   "execution_count": 4,
   "metadata": {},
   "outputs": [
    {
     "name": "stdout",
     "output_type": "stream",
     "text": [
      "{'table2': ['B', 'D'], 'table1': ['A', 'B', 'C']}\n"
     ]
    }
   ],
   "source": [
    "# Getting Metadata\n",
    "database = {}\n",
    "data = {}\n",
    "f = open('files/metadata.txt','r')\n",
    "for line in f:\n",
    "#     print(line.strip())\n",
    "    if line.strip() == \"<begin_table>\":\n",
    "        begin = 1\n",
    "        continue\n",
    "    if line.strip() == \"<end_table>\":\n",
    "        begin = 0\n",
    "        continue\n",
    "    if begin == 1:\n",
    "        table_name = line.strip()\n",
    "        database[table_name] = []\n",
    "        begin = 2\n",
    "        continue\n",
    "    if begin == 2:\n",
    "        database[table_name].append(line.strip())\n",
    "        continue\n",
    "print(database)"
   ]
  },
  {
   "cell_type": "code",
   "execution_count": 5,
   "metadata": {},
   "outputs": [],
   "source": [
    "query = sys.argv[1]\n",
    "# print(query)\n",
    "query = \"Select * from table1,table2 where a=b\"\n",
    "queries=sqlparse.split(query)"
   ]
  },
  {
   "cell_type": "code",
   "execution_count": 6,
   "metadata": {},
   "outputs": [
    {
     "name": "stdout",
     "output_type": "stream",
     "text": [
      "SELECT\n",
      "['Select', '*', 'from', 'table1,table2', 'where a=b']\n",
      "{'table2': {'B': ['158', '773', '85', '811', '311', '646', '335', '803', '718', '731'], 'D': ['11191', '14421', '5117', '13393', '16116', '5403', '6309', '12262', '10226', '13021']}, 'table1': {'A': ['922', '640', '775', '-551', '-952', '-354', '-497', '411', '-900', '858'], 'C': ['5727', '5058', '10164', '1534', '1318', '7063', '4549', '10519', '9020', '3668'], 'B': ['158', '773', '85', '811', '311', '646', '335', '803', '718', '731']}}\n",
      "table1.A table1.B table1.C ()\n",
      "table2.B table2.D ()\n"
     ]
    }
   ],
   "source": [
    "for query in queries:\n",
    "    query = sqlparse.format(query,strip_comments=True)\n",
    "    sql = sqlparse.parse(query)[0]\n",
    "    token = sql.tokens\n",
    "    querytype = sqlparse.sql.Statement(token).get_type()\n",
    "    print (querytype)\n",
    "    identifierList = []\n",
    "    queryArray = sqlparse.sql.IdentifierList(token).get_identifiers()\n",
    "    command = []\n",
    "    for i in queryArray:\n",
    "        command.append(str(i))\n",
    "# command is an array that divides sql query into multiple parts\n",
    "    print(command)\n",
    "    if querytype == \"SELECT\":\n",
    "        select(command)\n",
    "#         continue\n",
    "    else:\n",
    "        print(\"Error: Unknown Function\")"
   ]
  },
  {
   "cell_type": "code",
   "execution_count": null,
   "metadata": {},
   "outputs": [],
   "source": []
  }
 ],
 "metadata": {
  "kernelspec": {
   "display_name": "Python 2",
   "language": "python",
   "name": "python2"
  },
  "language_info": {
   "codemirror_mode": {
    "name": "ipython",
    "version": 2
   },
   "file_extension": ".py",
   "mimetype": "text/x-python",
   "name": "python",
   "nbconvert_exporter": "python",
   "pygments_lexer": "ipython2",
   "version": "2.7.12"
  }
 },
 "nbformat": 4,
 "nbformat_minor": 2
}
